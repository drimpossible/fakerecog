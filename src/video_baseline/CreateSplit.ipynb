{
 "cells": [
  {
   "cell_type": "code",
   "execution_count": 1,
   "metadata": {},
   "outputs": [],
   "source": [
    "import json\n",
    "import numpy as np"
   ]
  },
  {
   "cell_type": "code",
   "execution_count": 99,
   "metadata": {},
   "outputs": [
    {
     "name": "stdout",
     "output_type": "stream",
     "text": [
      "Num training videos 119154\n",
      "Num selected originals for val 1915, num all originals 19154\n",
      "Num training videos 107096\n",
      "Num validation videos 12058\n"
     ]
    }
   ],
   "source": [
    "# Load the file with all meta information\n",
    "meta_all = json.load(open('meta_all.json', 'r'))\n",
    "\n",
    "org_source = {}\n",
    "for k, i in meta_all.items():\n",
    "    if i['label'] != 'REAL':\n",
    "        if i['original'] in org_source.keys():\n",
    "            org_source[i['original']].append(k)\n",
    "        else:\n",
    "            org_source[i['original']] = [k]\n",
    "org_videos = list(org_source.keys())\n",
    "\n",
    "num_val_org_videos = int(0.1 * len(org_videos))\n",
    "np.random.shuffle(org_videos)\n",
    "val_org_videos = org_videos[:num_val_org_videos]\n",
    "val_videos = {}\n",
    "print('Num training videos {}'.format(len(list(meta_all.keys()))))\n",
    "print('Num selected originals for val {}, num all originals {}'.format(len(val_org_videos), len(org_videos)))\n",
    "for i in val_org_videos:\n",
    "    for j in org_source[i]:\n",
    "        val_videos[j] = meta_all[j]\n",
    "        val_videos[j]['split'] = 'validation'\n",
    "        del meta_all[j]\n",
    "    val_videos[i] = meta_all[i]\n",
    "    val_videos[i]['split'] = 'validation'\n",
    "    del meta_all[i]\n",
    "print('Num training videos {}'.format(len(list(meta_all.keys()))))\n",
    "print('Num validation videos {}'.format(len(list(val_videos.keys()))))"
   ]
  },
  {
   "cell_type": "code",
   "execution_count": 100,
   "metadata": {},
   "outputs": [
    {
     "data": {
      "text/plain": [
       "17239"
      ]
     },
     "execution_count": 100,
     "metadata": {},
     "output_type": "execute_result"
    }
   ],
   "source": [
    "len([i for j,i in meta_all.items() if i['label']!='FAKE' and  i['split'] != 'validation'])"
   ]
  },
  {
   "cell_type": "code",
   "execution_count": 102,
   "metadata": {},
   "outputs": [],
   "source": [
    "# Save the metafiles\n",
    "json.dump(meta_all, open('dfdc_train.json', 'w'))\n",
    "json.dump(val_videos, open('dfdc_validation.json', 'w'))"
   ]
  },
  {
   "cell_type": "code",
   "execution_count": null,
   "metadata": {},
   "outputs": [],
   "source": []
  }
 ],
 "metadata": {
  "kernelspec": {
   "display_name": "Python 3",
   "language": "python",
   "name": "python3"
  },
  "language_info": {
   "codemirror_mode": {
    "name": "ipython",
    "version": 3
   },
   "file_extension": ".py",
   "mimetype": "text/x-python",
   "name": "python",
   "nbconvert_exporter": "python",
   "pygments_lexer": "ipython3",
   "version": "3.5.2"
  }
 },
 "nbformat": 4,
 "nbformat_minor": 2
}
